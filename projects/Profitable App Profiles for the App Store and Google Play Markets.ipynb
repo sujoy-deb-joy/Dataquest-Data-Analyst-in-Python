{
 "cells": [
  {
   "cell_type": "markdown",
   "metadata": {},
   "source": [
    "# Guided Project: Profitable App Profiles for the App Store and Google Play Markets\n"
   ]
  },
  {
   "cell_type": "code",
   "execution_count": 123,
   "metadata": {
    "ExecuteTime": {
     "end_time": "2024-03-17T15:24:42.962947Z",
     "start_time": "2024-03-17T15:24:42.957818Z"
    }
   },
   "outputs": [],
   "source": [
    "def welcome(a_string):\n",
    "    print('Welcome to ' + a_string + '!')\n",
    "    \n",
    "dq = 'Dataquest'\n",
    "jn = 'Jupyter Notebook'\n",
    "py = 'Python'"
   ]
  },
  {
   "cell_type": "code",
   "execution_count": 124,
   "metadata": {
    "ExecuteTime": {
     "end_time": "2024-03-17T15:24:43.210522Z",
     "start_time": "2024-03-17T15:24:43.201841Z"
    }
   },
   "outputs": [
    {
     "name": "stdout",
     "output_type": "stream",
     "text": [
      ">>> welcome_message = 'Hello, Jupyter!'\n",
      "... first_cell = True\n",
      "... \n",
      "... if first_cell:\n",
      "...     print(welcome_message)\n",
      "...     \n",
      "... print('First cell')\n",
      "...\n",
      ">>> result = 1200 / 5\n",
      "... second_cell = True\n",
      "... \n",
      "... if second_cell:\n",
      "...     print(result)\n",
      "...     \n",
      "... print('Second cell')\n",
      "...\n",
      ">>> print('A true third cell')\n",
      ">>> def welcome(a_string):\n",
      "...     print('Welcome to ' + a_string + '!')\n",
      "...     \n",
      "... dq = 'Dataquest'\n",
      "... jn = 'Jupyter Notebook'\n",
      "... py = 'Python'\n",
      "...\n",
      ">>> welcome(dq)\n",
      "... welcome(jn)\n",
      "... welcome(py)\n",
      "...\n",
      ">>> %history -p\n",
      ">>> # Restart & Clear Output\n",
      ">>> '''\n",
      "... Note: To reproduce exactly the output in this notebook\n",
      "... as whole:\n",
      "... \n",
      "... 1. Run all the cells above.\n",
      "... 2. Restart the program's state but keep the output\n",
      "... (click Restart Kernel).\n",
      "... 3. Then, run only the cells below.\n",
      "... \n",
      "... \n",
      "... (You were not asked in this exercise to write a note like this.\n",
      "... The note above was written to give more details on how to reproduce\n",
      "... the behavior seen in this notebook.)\n",
      "... '''\n",
      "...\n",
      ">>> %history -p\n",
      ">>> def welcome(a_string):\n",
      "...     welcome_msg = 'Welcome to ' + a_string + '!'\n",
      "...     return welcome_msg\n",
      "... \n",
      "... dq = 'Dataquest'\n",
      "... jn = 'Jupyter Notebook'\n",
      "...\n",
      ">>> welcome(dq)\n",
      "... welcome(jn)\n",
      "... welcome(py)\n",
      "...\n",
      ">>> %history -p\n",
      ">>> welcome(dq)\n",
      "... welcome(jn)\n",
      "... welcome(py)\n",
      "...\n",
      ">>> from csv import reader\n",
      "... \n",
      "... ### The Google Play data set ###\n",
      "... # TO prevent UnicodeDecodeError, add encoding=\"utf8\" inside open\n",
      "... opened_file = open('googleplaystore.csv', encoding=\"utf8\") # T\n",
      "... read_file = reader(opened_file)\n",
      "... android = list(read_file)\n",
      "... android_header = android[0]\n",
      "... android = android[1:]\n",
      "...\n",
      ">>> ### The App Store data set ###\n",
      "... opened_file = open('AppleStore.csv', encoding=\"utf8\")\n",
      "... read_file = reader(opened_file)\n",
      "... ios = list(read_file)\n",
      "... ios_header = ios[0]\n",
      "... ios = ios[1:]\n",
      "...\n",
      ">>> def explore_data(dataset, start, end, rows_and_columns=False):\n",
      "...     dataset_slice = dataset[start:end]    \n",
      "...     for row in dataset_slice:\n",
      "...         print(row)\n",
      "...         print('\\n') # adds a new (empty) line after each row\n",
      "... \n",
      "...     if rows_and_columns:\n",
      "...         print('Number of rows:', len(dataset))\n",
      "...         print('Number of columns:', len(dataset[0]))\n",
      "...\n",
      ">>> print(android_header)\n",
      ">>> explore_data(android, 0, 3, True)\n",
      ">>> print(ios_header)\n",
      ">>> explore_data(ios, 0,4, True)\n",
      ">>> print(android[10472]) # incorrect row\n",
      ">>> print(android_header) # header\n",
      ">>> print(android[0]) # correct row\n",
      ">>> for row in android[1:]:\n",
      "...     if len(row) != len(android_header):\n",
      "...         print(row)\n",
      "...         print(\"\\n\")\n",
      "...         print(\"Index postion is:\", android.index(row))\n",
      "...\n",
      ">>> print(len(android))\n",
      "... del android[10472]  # run this just once\n",
      "... print(len(android))\n",
      "...\n",
      ">>> for app in android:\n",
      "...     name = app[0]\n",
      "...     if name == 'Instagram':\n",
      "...         print(app)\n",
      "...\n",
      ">>> duplicate_apps = []\n",
      "... unique_apps = []\n",
      "... for app in android:\n",
      "...     name = app[0]\n",
      "...     if name in unique_apps:\n",
      "...         duplicate_apps.append(name)\n",
      "...     else:\n",
      "...         unique_apps.append(name)\n",
      "... \n",
      "... print('Number of duplicate apps:', len(duplicate_apps))\n",
      "... print('\\n')\n",
      "... print(\"Examples of duplicate apps: \", duplicate_apps[:15])  # Print first 15 duplicates</span>\n",
      "...\n",
      ">>> reviews_max = {}\n",
      "... for app in android:\n",
      "...     name = app[0]\n",
      "...     n_reviews = float(app[3])\n",
      "...     if name in reviews_max and reviews_max[name] < n_reviews:\n",
      "...         reviews_max[name] = n_reviews\n",
      "...     elif name not in reviews_max:\n",
      "...         reviews_max[name] = n_reviews\n",
      "...\n",
      ">>> print('Expected length: ', len(android) - 1181)\n",
      "... print('actual length: ', len(reviews_max))\n",
      "...\n",
      ">>> \n",
      "... android_clean = []\n",
      "... already_added = []\n",
      "... for app in android:\n",
      "...     name = app[0]\n",
      "...     n_reviews = float(app[3])\n",
      "...     if reviews_max[name] == n_reviews and (name not in already_added):\n",
      "...         android_clean.append(app)\n",
      "...         already_added.append(name)\n",
      "...\n",
      ">>> len(android_clean)\n",
      ">>> explore_data(android_clean, 0, 2, True)\n",
      ">>> print(ios[813][1])\n",
      "... print(ios[6731][1])\n",
      "...\n",
      ">>> def is_english(word):\n",
      "...     \"\"\"Check if a word is in English\"\"\"\n",
      "...     for char in word:\n",
      "...         if ord(char) > 127:\n",
      "...             return False\n",
      "...     return True\n",
      "...\n",
      ">>> print(is_english('Instagram'))\n",
      "... print(is_english('爱奇艺PPS -《欢乐颂2》电视剧热播'))\n",
      "...\n",
      ">>> print(ord('™'))\n",
      "... print(ord('😜'))\n",
      "...\n",
      ">>> print('A true third cell')\n",
      ">>> %history -p\n",
      ">>> def welcome(a_string):\n",
      "...     print('Welcome to ' + a_string + '!')\n",
      "...     \n",
      "... dq = 'Dataquest'\n",
      "... jn = 'Jupyter Notebook'\n",
      "... py = 'Python'\n",
      "...\n",
      ">>> welcome(dq)\n",
      "... welcome(jn)\n",
      "... welcome(py)\n",
      "...\n",
      ">>> %history -p\n",
      ">>> # Restart & Clear Output\n",
      ">>> %history -p\n",
      ">>> def welcome(a_string):\n",
      "...     welcome_msg = 'Welcome to ' + a_string + '!'\n",
      "...     return welcome_msg\n",
      "... \n",
      "... dq = 'Dataquest'\n",
      "... jn = 'Jupyter Notebook'\n",
      "...\n",
      ">>> welcome(dq)\n",
      "... welcome(jn)\n",
      "... welcome(py)\n",
      "...\n",
      ">>> %history -p\n",
      ">>> welcome(dq)\n",
      "... welcome(jn)\n",
      "... welcome(py)\n",
      "...\n",
      ">>> from csv import reader\n",
      "... \n",
      "... ### The Google Play data set ###\n",
      "... # TO prevent UnicodeDecodeError, add encoding=\"utf8\" inside open\n",
      "... opened_file = open('googleplaystore.csv', encoding=\"utf8\") # T\n",
      "... read_file = reader(opened_file)\n",
      "... android = list(read_file)\n",
      "... android_header = android[0]\n",
      "... android = android[1:]\n",
      "...\n",
      ">>> ### The App Store data set ###\n",
      "... opened_file = open('AppleStore.csv', encoding=\"utf8\")\n",
      "... read_file = reader(opened_file)\n",
      "... ios = list(read_file)\n",
      "... ios_header = ios[0]\n",
      "... ios = ios[1:]\n",
      "...\n",
      ">>> def explore_data(dataset, start, end, rows_and_columns=False):\n",
      "...     dataset_slice = dataset[start:end]    \n",
      "...     for row in dataset_slice:\n",
      "...         print(row)\n",
      "...         print('\\n') # adds a new (empty) line after each row\n",
      "... \n",
      "...     if rows_and_columns:\n",
      "...         print('Number of rows:', len(dataset))\n",
      "...         print('Number of columns:', len(dataset[0]))\n",
      "...\n",
      ">>> print(android_header)\n",
      ">>> explore_data(android, 0, 3, True)\n",
      ">>> print(ios_header)\n",
      ">>> explore_data(ios, 0,4, True)\n",
      ">>> print(android[10472]) # incorrect row\n",
      ">>> print(android_header) # header\n",
      ">>> print(android[0]) # correct row\n",
      ">>> for row in android[1:]:\n",
      "...     if len(row) != len(android_header):\n",
      "...         print(row)\n",
      "...         print(\"\\n\")\n",
      "...         print(\"Index postion is:\", android.index(row))\n",
      "...\n",
      ">>> print(len(android))\n",
      "... del android[10472]  # run this just once\n",
      "... print(len(android))\n",
      "...\n",
      ">>> for app in android:\n",
      "...     name = app[0]\n",
      "...     if name == 'Instagram':\n",
      "...         print(app)\n",
      "...\n",
      ">>> duplicate_apps = []\n",
      "... unique_apps = []\n",
      "... for app in android:\n",
      "...     name = app[0]\n",
      "...     if name in unique_apps:\n",
      "...         duplicate_apps.append(name)\n",
      "...     else:\n",
      "...         unique_apps.append(name)\n",
      "... \n",
      "... print('Number of duplicate apps:', len(duplicate_apps))\n",
      "... print('\\n')\n",
      "... print(\"Examples of duplicate apps: \", duplicate_apps[:15])  # Print first 15 duplicates</span>\n",
      "...\n",
      ">>> reviews_max = {}\n",
      "... for app in android:\n",
      "...     name = app[0]\n",
      "...     n_reviews = float(app[3])\n",
      "...     if name in reviews_max and reviews_max[name] < n_reviews:\n",
      "...         reviews_max[name] = n_reviews\n",
      "...     elif name not in reviews_max:\n",
      "...         reviews_max[name] = n_reviews\n",
      "...\n",
      ">>> print('Expected length: ', len(android) - 1181)\n",
      "... print('actual length: ', len(reviews_max))\n",
      "...\n",
      ">>> \n",
      "... android_clean = []\n",
      "... already_added = []\n",
      "... for app in android:\n",
      "...     name = app[0]\n",
      "...     n_reviews = float(app[3])\n",
      "...     if reviews_max[name] == n_reviews and (name not in already_added):\n",
      "...         android_clean.append(app)\n",
      "...         already_added.append(name)\n",
      "...\n",
      ">>> len(android_clean)\n",
      ">>> explore_data(android_clean, 0, 2, True)\n",
      ">>> print(ios[813][1])\n",
      "... print(ios[6731][1])\n",
      "...\n",
      ">>> def is_english(word):\n",
      "...     \"\"\"Check if a word is in English\"\"\"\n",
      "...     for char in word:\n",
      "...         if ord(char) > 127:\n",
      "...             return False\n",
      "...     return True\n",
      "...\n",
      ">>> print(is_english('Instagram'))\n",
      "... print(is_english('爱奇艺PPS -《欢乐颂2》电视剧热播'))\n",
      "...\n",
      ">>> print(ord('™'))\n",
      "... print(ord('😜'))\n",
      "...\n",
      ">>> def welcome(a_string):\n",
      "...     print('Welcome to ' + a_string + '!')\n",
      "...     \n",
      "... dq = 'Dataquest'\n",
      "... jn = 'Jupyter Notebook'\n",
      "... py = 'Python'\n",
      "...\n",
      ">>> %history -p\n",
      ">>> # Restart & Clear Output\n",
      ">>> %history -p\n",
      ">>> from csv import reader\n",
      "... \n",
      "... ### The Google Play data set ###\n",
      "... # TO prevent UnicodeDecodeError, add encoding=\"utf8\" inside open\n",
      "... opened_file = open('googleplaystore.csv', encoding=\"utf8\") # T\n",
      "... read_file = reader(opened_file)\n",
      "... android = list(read_file)\n",
      "... android_header = android[0]\n",
      "... android = android[1:]\n",
      "...\n",
      ">>> ### The App Store data set ###\n",
      "... opened_file = open('AppleStore.csv', encoding=\"utf8\")\n",
      "... read_file = reader(opened_file)\n",
      "... ios = list(read_file)\n",
      "... ios_header = ios[0]\n",
      "... ios = ios[1:]\n",
      "...\n",
      ">>> def explore_data(dataset, start, end, rows_and_columns=False):\n",
      "...     dataset_slice = dataset[start:end]    \n",
      "...     for row in dataset_slice:\n",
      "...         print(row)\n",
      "...         print('\\n') # adds a new (empty) line after each row\n",
      "... \n",
      "...     if rows_and_columns:\n",
      "...         print('Number of rows:', len(dataset))\n",
      "...         print('Number of columns:', len(dataset[0]))\n",
      "...\n",
      ">>> print(android_header)\n",
      ">>> explore_data(android, 0, 3, True)\n",
      ">>> print(ios_header)\n",
      ">>> explore_data(ios, 0,4, True)\n",
      ">>> print(android[10472]) # incorrect row\n",
      ">>> print(android_header) # header\n",
      ">>> print(android[0]) # correct row\n",
      ">>> for row in android[1:]:\n",
      "...     if len(row) != len(android_header):\n",
      "...         print(row)\n",
      "...         print(\"\\n\")\n",
      "...         print(\"Index postion is:\", android.index(row))\n",
      "...\n",
      ">>> print(len(android))\n",
      "... del android[10472]  # run this just once\n",
      "... print(len(android))\n",
      "...\n",
      ">>> for app in android:\n",
      "...     name = app[0]\n",
      "...     if name == 'Instagram':\n",
      "...         print(app)\n",
      "...\n",
      ">>> duplicate_apps = []\n",
      "... unique_apps = []\n",
      "... for app in android:\n",
      "...     name = app[0]\n",
      "...     if name in unique_apps:\n",
      "...         duplicate_apps.append(name)\n",
      "...     else:\n",
      "...         unique_apps.append(name)\n",
      "... \n",
      "... print('Number of duplicate apps:', len(duplicate_apps))\n",
      "... print('\\n')\n",
      "... print(\"Examples of duplicate apps: \", duplicate_apps[:15])  # Print first 15 duplicates</span>\n",
      "...\n",
      ">>> reviews_max = {}\n",
      "... for app in android:\n",
      "...     name = app[0]\n",
      "...     n_reviews = float(app[3])\n",
      "...     if name in reviews_max and reviews_max[name] < n_reviews:\n",
      "...         reviews_max[name] = n_reviews\n",
      "...     elif name not in reviews_max:\n",
      "...         reviews_max[name] = n_reviews\n",
      "...\n",
      ">>> print('Expected length: ', len(android) - 1181)\n",
      "... print('actual length: ', len(reviews_max))\n",
      "...\n",
      ">>> \n",
      "... android_clean = []\n",
      "... already_added = []\n",
      "... for app in android:\n",
      "...     name = app[0]\n",
      "...     n_reviews = float(app[3])\n",
      "...     if reviews_max[name] == n_reviews and (name not in already_added):\n",
      "...         android_clean.append(app)\n",
      "...         already_added.append(name)\n",
      "...\n",
      ">>> len(android_clean)\n",
      ">>> explore_data(android_clean, 0, 2, True)\n",
      ">>> print(ios[813][1])\n",
      "... print(ios[6731][1])\n",
      "...\n",
      ">>> def is_english(word):\n",
      "...     \"\"\"Check if a word is in English\"\"\"\n",
      "...     for char in word:\n",
      "...         if ord(char) > 127:\n",
      "...             return False\n",
      "...     return True\n",
      "...\n",
      ">>> print(is_english('Instagram'))\n",
      "... print(is_english('爱奇艺PPS -《欢乐颂2》电视剧热播'))\n",
      "...\n",
      ">>> print(ord('™'))\n",
      "... print(ord('😜'))\n",
      "...\n",
      ">>> def welcome(a_string):\n",
      "...     print('Welcome to ' + a_string + '!')\n",
      "...     \n",
      "... dq = 'Dataquest'\n",
      "... jn = 'Jupyter Notebook'\n",
      "... py = 'Python'\n",
      "...\n",
      ">>> %history -p\n",
      ">>> from csv import reader\n",
      "... \n",
      "... ### The Google Play data set ###\n",
      "... # TO prevent UnicodeDecodeError, add encoding=\"utf8\" inside open\n",
      "... opened_file = open('googleplaystore.csv', encoding=\"utf8\") # T\n",
      "... read_file = reader(opened_file)\n",
      "... android = list(read_file)\n",
      "... android_header = android[0]\n",
      "... android = android[1:]\n",
      "...\n",
      ">>> ### The App Store data set ###\n",
      "... opened_file = open('AppleStore.csv', encoding=\"utf8\")\n",
      "... read_file = reader(opened_file)\n",
      "... ios = list(read_file)\n",
      "... ios_header = ios[0]\n",
      "... ios = ios[1:]\n",
      "...\n",
      ">>> def explore_data(dataset, start, end, rows_and_columns=False):\n",
      "...     dataset_slice = dataset[start:end]    \n",
      "...     for row in dataset_slice:\n",
      "...         print(row)\n",
      "...         print('\\n') # adds a new (empty) line after each row\n",
      "... \n",
      "...     if rows_and_columns:\n",
      "...         print('Number of rows:', len(dataset))\n",
      "...         print('Number of columns:', len(dataset[0]))\n",
      "...\n",
      ">>> print(android_header)\n",
      ">>> explore_data(android, 0, 3, True)\n",
      ">>> print(ios_header)\n",
      ">>> explore_data(ios, 0,4, True)\n",
      ">>> print(android[10472]) # incorrect row\n",
      ">>> print(android_header) # header\n",
      ">>> print(android[0]) # correct row\n",
      ">>> for row in android[1:]:\n",
      "...     if len(row) != len(android_header):\n",
      "...         print(row)\n",
      "...         print(\"\\n\")\n",
      "...         print(\"Index postion is:\", android.index(row))\n",
      "...\n",
      ">>> print(len(android))\n",
      "... del android[10472]  # run this just once\n",
      "... print(len(android))\n",
      "...\n",
      ">>> for app in android:\n",
      "...     name = app[0]\n",
      "...     if name == 'Instagram':\n",
      "...         print(app)\n",
      "...\n",
      ">>> duplicate_apps = []\n",
      "... unique_apps = []\n",
      "... for app in android:\n",
      "...     name = app[0]\n",
      "...     if name in unique_apps:\n",
      "...         duplicate_apps.append(name)\n",
      "...     else:\n",
      "...         unique_apps.append(name)\n",
      "... \n",
      "... print('Number of duplicate apps:', len(duplicate_apps))\n",
      "... print('\\n')\n",
      "... print(\"Examples of duplicate apps: \", duplicate_apps[:15])  # Print first 15 duplicates</span>\n",
      "...\n",
      ">>> reviews_max = {}\n",
      "... for app in android:\n",
      "...     name = app[0]\n",
      "...     n_reviews = float(app[3])\n",
      "...     if name in reviews_max and reviews_max[name] < n_reviews:\n",
      "...         reviews_max[name] = n_reviews\n",
      "...     elif name not in reviews_max:\n",
      "...         reviews_max[name] = n_reviews\n",
      "...\n",
      ">>> print('Expected length: ', len(android) - 1181)\n",
      "... print('actual length: ', len(reviews_max))\n",
      "...\n",
      ">>> \n",
      "... android_clean = []\n",
      "... already_added = []\n",
      "... for app in android:\n",
      "...     name = app[0]\n",
      "...     n_reviews = float(app[3])\n",
      "...     if reviews_max[name] == n_reviews and (name not in already_added):\n",
      "...         android_clean.append(app)\n",
      "...         already_added.append(name)\n",
      "...\n",
      ">>> len(android_clean)\n",
      ">>> explore_data(android_clean, 0, 2, True)\n",
      ">>> print(ios[813][1])\n",
      "... print(ios[6731][1])\n",
      "...\n",
      ">>> def is_english(word):\n",
      "...     \"\"\"Check if a word is in English\"\"\"\n",
      "...     for char in word:\n",
      "...         if ord(char) > 127:\n",
      "...             return False\n",
      "...     return True\n",
      "...\n",
      ">>> print(is_english('Instagram'))\n",
      "... print(is_english('爱奇艺PPS -《欢乐颂2》电视剧热播'))\n",
      "...\n",
      ">>> print(ord('™'))\n",
      "... print(ord('😜'))\n",
      "...\n",
      ">>> def welcome(a_string):\n",
      "...     print('Welcome to ' + a_string + '!')\n",
      "...     \n",
      "... dq = 'Dataquest'\n",
      "... jn = 'Jupyter Notebook'\n",
      "... py = 'Python'\n",
      "...\n",
      ">>> %history -p\n"
     ]
    }
   ],
   "source": [
    "%history -p"
   ]
  },
  {
   "cell_type": "markdown",
   "metadata": {},
   "source": [
    "## project details"
   ]
  },
  {
   "cell_type": "markdown",
   "metadata": {},
   "source": [
    "In the code cell below, we:\n",
    "\n",
    "- Open the `AppleStore.csv` file using the `open()` function, and assign the output to a variable named `opened_file`\n",
    "- Import the `reader()` function from the `csv` module\n",
    "- Read in the opened file using the `reader()` function, and assign the output to a variable named `read_file`\n",
    "- Transform the read-in file to a list of lists using `list()` and save it to a variable named `apps_data`\n",
    "- Display the header row and the first three rows of the data set."
   ]
  },
  {
   "cell_type": "markdown",
   "metadata": {},
   "source": [
    "The data set above contains information about more than 7000 Apple iOS mobile apps. The data was collected from the iTunes Search API by data engineer [Ramanathan Perumal](https://www.kaggle.com/ramamet4). Documentation for the data set can be found [at this page](https://www.kaggle.com/ramamet4/app-store-apple-data-set-10k-apps/home), where you'll also be able to download the data set.\n",
    "\n",
    "This is a table explaining what each column in the data set describes:\n",
    "\n",
    "Column name | Description\n",
    "-- | --\n",
    "\"id\" | App ID\n",
    "\"track_name\"| App Name\n",
    "\"size_bytes\"| Size (in Bytes)\n",
    "\"currency\"| Currency Type\n",
    "\"price\"| Price amount\n",
    "\"rating_count_tot\"| User Rating counts (for all version)\n",
    "\"rating_count_ver\"| User Rating counts (for current version)\n",
    "\"user_rating\" | Average User Rating value (for all version)\n",
    "\"user_rating_ver\"| Average User Rating value (for current version)\n",
    "\"ver\" | Latest version code\n",
    "\"cont_rating\"| Content Rating\n",
    "\"prime_genre\"| Primary Genre\n",
    "\"sup_devices.num\"| Number of supporting devices\n",
    "\"ipadSc_urls.num\"| Number of screenshots showed for display\n",
    "\"lang.num\"| Number of supported languages\n",
    "\"vpp_lic\"| Vpp Device Based Licensing Enabled"
   ]
  },
  {
   "cell_type": "code",
   "execution_count": 125,
   "metadata": {
    "ExecuteTime": {
     "end_time": "2024-03-17T15:24:43.281219Z",
     "start_time": "2024-03-17T15:24:43.232462Z"
    }
   },
   "outputs": [],
   "source": [
    "from csv import reader\n",
    "\n",
    "### The Google Play data set ###\n",
    "# TO prevent UnicodeDecodeError, add encoding=\"utf8\" inside open\n",
    "opened_file = open('googleplaystore.csv', encoding=\"utf8\") # T\n",
    "read_file = reader(opened_file)\n",
    "android = list(read_file)\n",
    "android_header = android[0]\n",
    "android = android[1:]"
   ]
  },
  {
   "cell_type": "code",
   "execution_count": 126,
   "metadata": {
    "ExecuteTime": {
     "end_time": "2024-03-17T15:24:43.347234Z",
     "start_time": "2024-03-17T15:24:43.316731Z"
    }
   },
   "outputs": [],
   "source": [
    "### The App Store data set ###\n",
    "opened_file = open('AppleStore.csv', encoding=\"utf8\")\n",
    "read_file = reader(opened_file)\n",
    "ios = list(read_file)\n",
    "ios_header = ios[0]\n",
    "ios = ios[1:]"
   ]
  },
  {
   "cell_type": "code",
   "execution_count": 127,
   "metadata": {
    "ExecuteTime": {
     "end_time": "2024-03-17T15:24:43.401626Z",
     "start_time": "2024-03-17T15:24:43.397314Z"
    }
   },
   "outputs": [],
   "source": [
    "def explore_data(dataset, start, end, rows_and_columns=False):\n",
    "    dataset_slice = dataset[start:end]    \n",
    "    for row in dataset_slice:\n",
    "        print(row)\n",
    "        print('\\n') # adds a new (empty) line after each row\n",
    "\n",
    "    if rows_and_columns:\n",
    "        print('Number of rows:', len(dataset))\n",
    "        print('Number of columns:', len(dataset[0]))"
   ]
  },
  {
   "cell_type": "code",
   "execution_count": 128,
   "metadata": {
    "ExecuteTime": {
     "end_time": "2024-03-17T15:24:43.431506Z",
     "start_time": "2024-03-17T15:24:43.426685Z"
    }
   },
   "outputs": [
    {
     "name": "stdout",
     "output_type": "stream",
     "text": [
      "['App', 'Category', 'Rating', 'Reviews', 'Size', 'Installs', 'Type', 'Price', 'Content Rating', 'Genres', 'Last Updated', 'Current Ver', 'Android Ver']\n"
     ]
    }
   ],
   "source": [
    "print(android_header)"
   ]
  },
  {
   "cell_type": "code",
   "execution_count": 129,
   "metadata": {
    "ExecuteTime": {
     "end_time": "2024-03-17T15:24:43.472367Z",
     "start_time": "2024-03-17T15:24:43.467682Z"
    }
   },
   "outputs": [
    {
     "name": "stdout",
     "output_type": "stream",
     "text": [
      "['Photo Editor & Candy Camera & Grid & ScrapBook', 'ART_AND_DESIGN', '4.1', '159', '19M', '10,000+', 'Free', '0', 'Everyone', 'Art & Design', 'January 7, 2018', '1.0.0', '4.0.3 and up']\n",
      "\n",
      "\n",
      "['Coloring book moana', 'ART_AND_DESIGN', '3.9', '967', '14M', '500,000+', 'Free', '0', 'Everyone', 'Art & Design;Pretend Play', 'January 15, 2018', '2.0.0', '4.0.3 and up']\n",
      "\n",
      "\n",
      "['U Launcher Lite – FREE Live Cool Themes, Hide Apps', 'ART_AND_DESIGN', '4.7', '87510', '8.7M', '5,000,000+', 'Free', '0', 'Everyone', 'Art & Design', 'August 1, 2018', '1.2.4', '4.0.3 and up']\n",
      "\n",
      "\n",
      "Number of rows: 10841\n",
      "Number of columns: 13\n"
     ]
    }
   ],
   "source": [
    "explore_data(android, 0, 3, True)"
   ]
  },
  {
   "cell_type": "markdown",
   "metadata": {},
   "source": [
    "- google play has around 10841 apps and columns\n",
    "- most important columns include `'App'`, `'Category'`, `'Reviews'`, `'Installs'`, `'Type'`, `'Price'`, and `'Genres'`."
   ]
  },
  {
   "cell_type": "code",
   "execution_count": 130,
   "metadata": {
    "ExecuteTime": {
     "end_time": "2024-03-17T15:24:43.557721Z",
     "start_time": "2024-03-17T15:24:43.553028Z"
    }
   },
   "outputs": [
    {
     "name": "stdout",
     "output_type": "stream",
     "text": [
      "['id', 'track_name', 'size_bytes', 'currency', 'price', 'rating_count_tot', 'rating_count_ver', 'user_rating', 'user_rating_ver', 'ver', 'cont_rating', 'prime_genre', 'sup_devices.num', 'ipadSc_urls.num', 'lang.num', 'vpp_lic']\n"
     ]
    }
   ],
   "source": [
    "print(ios_header)"
   ]
  },
  {
   "cell_type": "code",
   "execution_count": 131,
   "metadata": {
    "ExecuteTime": {
     "end_time": "2024-03-17T15:24:43.580770Z",
     "start_time": "2024-03-17T15:24:43.576228Z"
    }
   },
   "outputs": [
    {
     "name": "stdout",
     "output_type": "stream",
     "text": [
      "['284882215', 'Facebook', '389879808', 'USD', '0.0', '2974676', '212', '3.5', '3.5', '95.0', '4+', 'Social Networking', '37', '1', '29', '1']\n",
      "\n",
      "\n",
      "['389801252', 'Instagram', '113954816', 'USD', '0.0', '2161558', '1289', '4.5', '4.0', '10.23', '12+', 'Photo & Video', '37', '0', '29', '1']\n",
      "\n",
      "\n",
      "['529479190', 'Clash of Clans', '116476928', 'USD', '0.0', '2130805', '579', '4.5', '4.5', '9.24.12', '9+', 'Games', '38', '5', '18', '1']\n",
      "\n",
      "\n",
      "['420009108', 'Temple Run', '65921024', 'USD', '0.0', '1724546', '3842', '4.5', '4.0', '1.6.2', '9+', 'Games', '40', '5', '1', '1']\n",
      "\n",
      "\n",
      "Number of rows: 7197\n",
      "Number of columns: 16\n"
     ]
    }
   ],
   "source": [
    "explore_data(ios, 0,4, True)"
   ]
  },
  {
   "cell_type": "markdown",
   "metadata": {},
   "source": [
    "- we have 7197 apps in the ios data set\n",
    "- some of the interesting columns include 'track_name', 'currency', 'price', 'rating_count_tot', 'user_rating', 'prime_genre'"
   ]
  },
  {
   "cell_type": "markdown",
   "metadata": {},
   "source": [
    "- Details about each column can be found in the data set [documentation](https://www.kaggle.com/ramamet4/app-store-apple-data-set-10k-apps/home)"
   ]
  },
  {
   "cell_type": "markdown",
   "metadata": {},
   "source": [
    "## Deleting Wrong Data\n",
    "- The Google Play data set has a dedicated [discussion section](https://www.kaggle.com/lava18/google-play-store-apps/discussion)\n",
    "- one of the discussions outlines an error at row 10472\n",
    "- let's find this error and compare it with the header\n"
   ]
  },
  {
   "cell_type": "code",
   "execution_count": 132,
   "metadata": {
    "ExecuteTime": {
     "end_time": "2024-03-17T15:24:43.592846Z",
     "start_time": "2024-03-17T15:24:43.585099Z"
    }
   },
   "outputs": [
    {
     "name": "stdout",
     "output_type": "stream",
     "text": [
      "['Life Made WI-Fi Touchscreen Photo Frame', '1.9', '19', '3.0M', '1,000+', 'Free', '0', 'Everyone', '', 'February 11, 2018', '1.0.19', '4.0 and up']\n"
     ]
    }
   ],
   "source": [
    "print(android[10472]) # incorrect row"
   ]
  },
  {
   "cell_type": "code",
   "execution_count": 133,
   "metadata": {
    "ExecuteTime": {
     "end_time": "2024-03-17T15:24:43.629024Z",
     "start_time": "2024-03-17T15:24:43.624341Z"
    }
   },
   "outputs": [
    {
     "name": "stdout",
     "output_type": "stream",
     "text": [
      "['App', 'Category', 'Rating', 'Reviews', 'Size', 'Installs', 'Type', 'Price', 'Content Rating', 'Genres', 'Last Updated', 'Current Ver', 'Android Ver']\n"
     ]
    }
   ],
   "source": [
    "print(android_header) # header"
   ]
  },
  {
   "cell_type": "code",
   "execution_count": 134,
   "metadata": {
    "ExecuteTime": {
     "end_time": "2024-03-17T15:24:43.741605Z",
     "start_time": "2024-03-17T15:24:43.736679Z"
    }
   },
   "outputs": [
    {
     "name": "stdout",
     "output_type": "stream",
     "text": [
      "['Photo Editor & Candy Camera & Grid & ScrapBook', 'ART_AND_DESIGN', '4.1', '159', '19M', '10,000+', 'Free', '0', 'Everyone', 'Art & Design', 'January 7, 2018', '1.0.0', '4.0.3 and up']\n"
     ]
    }
   ],
   "source": [
    "print(android[0]) # correct row"
   ]
  },
  {
   "cell_type": "markdown",
   "metadata": {},
   "source": [
    "- the row corresponds to app _Life Made WI-Fi Touchscreen Photo Frame_ where the rating is 19\n",
    "- it can't be possible as the max rating is 5\n",
    "- this error is caused by a missing value in the `'category'` column\n"
   ]
  },
  {
   "cell_type": "code",
   "execution_count": 135,
   "metadata": {
    "ExecuteTime": {
     "end_time": "2024-03-17T15:24:43.846504Z",
     "start_time": "2024-03-17T15:24:43.836154Z"
    }
   },
   "outputs": [
    {
     "name": "stdout",
     "output_type": "stream",
     "text": [
      "['Life Made WI-Fi Touchscreen Photo Frame', '1.9', '19', '3.0M', '1,000+', 'Free', '0', 'Everyone', '', 'February 11, 2018', '1.0.19', '4.0 and up']\n",
      "\n",
      "\n",
      "Index postion is: 10472\n"
     ]
    }
   ],
   "source": [
    "for row in android[1:]:\n",
    "    if len(row) != len(android_header):\n",
    "        print(row)\n",
    "        print(\"\\n\")\n",
    "        print(\"Index postion is:\", android.index(row))"
   ]
  },
  {
   "cell_type": "code",
   "execution_count": 136,
   "metadata": {
    "ExecuteTime": {
     "end_time": "2024-03-17T15:24:43.912845Z",
     "start_time": "2024-03-17T15:24:43.908823Z"
    }
   },
   "outputs": [
    {
     "name": "stdout",
     "output_type": "stream",
     "text": [
      "10841\n",
      "10840\n"
     ]
    }
   ],
   "source": [
    "print(len(android))\n",
    "del android[10472]  # run this just once\n",
    "print(len(android))"
   ]
  },
  {
   "cell_type": "markdown",
   "metadata": {},
   "source": [
    "## Removing Duplicate Entries\n",
    "\n",
    "### Part One\n",
    "we can observe that in Google Play data some apps have more than one entry.\n",
    "For instance, the application Instagram has four entries:"
   ]
  },
  {
   "cell_type": "code",
   "execution_count": 137,
   "metadata": {
    "ExecuteTime": {
     "end_time": "2024-03-17T15:24:44.029421Z",
     "start_time": "2024-03-17T15:24:44.020916Z"
    }
   },
   "outputs": [
    {
     "name": "stdout",
     "output_type": "stream",
     "text": [
      "['Instagram', 'SOCIAL', '4.5', '66577313', 'Varies with device', '1,000,000,000+', 'Free', '0', 'Teen', 'Social', 'July 31, 2018', 'Varies with device', 'Varies with device']\n",
      "['Instagram', 'SOCIAL', '4.5', '66577446', 'Varies with device', '1,000,000,000+', 'Free', '0', 'Teen', 'Social', 'July 31, 2018', 'Varies with device', 'Varies with device']\n",
      "['Instagram', 'SOCIAL', '4.5', '66577313', 'Varies with device', '1,000,000,000+', 'Free', '0', 'Teen', 'Social', 'July 31, 2018', 'Varies with device', 'Varies with device']\n",
      "['Instagram', 'SOCIAL', '4.5', '66509917', 'Varies with device', '1,000,000,000+', 'Free', '0', 'Teen', 'Social', 'July 31, 2018', 'Varies with device', 'Varies with device']\n"
     ]
    }
   ],
   "source": [
    "for app in android:\n",
    "    name = app[0]\n",
    "    if name == 'Instagram':\n",
    "        print(app)"
   ]
  },
  {
   "cell_type": "code",
   "execution_count": 138,
   "metadata": {
    "ExecuteTime": {
     "end_time": "2024-03-17T15:24:45.589609Z",
     "start_time": "2024-03-17T15:24:44.074506Z"
    }
   },
   "outputs": [
    {
     "name": "stdout",
     "output_type": "stream",
     "text": [
      "Number of duplicate apps: 1181\n",
      "\n",
      "\n",
      "Examples of duplicate apps:  ['Quick PDF Scanner + OCR FREE', 'Box', 'Google My Business', 'ZOOM Cloud Meetings', 'join.me - Simple Meetings', 'Box', 'Zenefits', 'Google Ads', 'Google My Business', 'Slack', 'FreshBooks Classic', 'Insightly CRM', 'QuickBooks Accounting: Invoicing & Expenses', 'HipChat - Chat Built for Teams', 'Xero Accounting Software']\n"
     ]
    }
   ],
   "source": [
    "duplicate_apps = []\n",
    "unique_apps = []\n",
    "for app in android:\n",
    "    name = app[0]\n",
    "    if name in unique_apps:\n",
    "        duplicate_apps.append(name)\n",
    "    else:\n",
    "        unique_apps.append(name)\n",
    "\n",
    "print('Number of duplicate apps:', len(duplicate_apps))\n",
    "print('\\n')\n",
    "print(\"Examples of duplicate apps: \", duplicate_apps[:15])  # Print first 15 duplicates</span>\n"
   ]
  },
  {
   "cell_type": "markdown",
   "metadata": {},
   "source": [
    "We don't want to count certain apps more than once when we analyze data, so we need to remove the duplicate entries and keep only one entry per app.\n",
    "\n",
    "We won't remove rows randomly, but rather we'll keep the rows that have the highest number of reviews because the higher the number of reviews, the more reliable the ratings.\n",
    "\n",
    "To do that, we will:\n",
    "\n",
    "- Create a dictionary where each key is a unique app name, and the value is the highest number of reviews of that app\n",
    "- Use the dictionary to create a new data set, which will have only one entry per app (and we only select the apps with the highest number of reviews)\n"
   ]
  },
  {
   "cell_type": "markdown",
   "metadata": {},
   "source": [
    "\n",
    "\n",
    "\n",
    "\n",
    "### Part Two\n",
    "\n",
    "Let's start by building the dictionary."
   ]
  },
  {
   "cell_type": "markdown",
   "metadata": {},
   "source": [
    "\n",
    "\n",
    "If you examine the rows we printed two cells above for the Instagram app, the main difference happens on the fourth position of each row, which corresponds to the number of reviews. The different numbers show that the data was collected at different times. We can use this to build a criterion for keeping rows.\n",
    "\n",
    "\n"
   ]
  },
  {
   "cell_type": "markdown",
   "metadata": {},
   "source": []
  },
  {
   "cell_type": "code",
   "execution_count": 139,
   "metadata": {
    "ExecuteTime": {
     "end_time": "2024-03-17T15:24:45.614008Z",
     "start_time": "2024-03-17T15:24:45.592619Z"
    }
   },
   "outputs": [],
   "source": [
    "reviews_max = {}\n",
    "for app in android:\n",
    "    name = app[0]\n",
    "    n_reviews = float(app[3])\n",
    "    if name in reviews_max and reviews_max[name] < n_reviews:\n",
    "        reviews_max[name] = n_reviews\n",
    "    elif name not in reviews_max:\n",
    "        reviews_max[name] = n_reviews\n",
    "    \n"
   ]
  },
  {
   "cell_type": "markdown",
   "metadata": {},
   "source": [
    "we found that there are 1,181 cases where an app occurs more than once\n",
    "- so the length of our dictionary (of unique apps) should be \n",
    "- equal to the difference between the length of our data set and 1,181."
   ]
  },
  {
   "cell_type": "markdown",
   "metadata": {},
   "source": []
  },
  {
   "cell_type": "code",
   "execution_count": 140,
   "metadata": {
    "ExecuteTime": {
     "end_time": "2024-03-17T15:24:45.628800Z",
     "start_time": "2024-03-17T15:24:45.616015Z"
    }
   },
   "outputs": [
    {
     "name": "stdout",
     "output_type": "stream",
     "text": [
      "Expected length:  9659\n",
      "actual length:  9659\n"
     ]
    }
   ],
   "source": [
    "print('Expected length: ', len(android) - 1181)\n",
    "print('actual length: ', len(reviews_max))"
   ]
  },
  {
   "cell_type": "markdown",
   "metadata": {},
   "source": [
    "We start by initializing two empty lists, `android_clean` and `already_added`.\n",
    "- We loop through the `android` data set, and for every iteration:\n",
    "    - We isolate the name of the app and the number of reviews.\n",
    "    - We add the current row (`app`) to the `android_clean` list, and the app name (`name`) to the `already_added` list if:\n",
    "        - The number of reviews of the current app matches the number of reviews of that app as described in the `reviews_max` dictionary; and\n",
    "        - The name of the app is not already in the `already_added` list. We need to add this supplementary condition to account for those cases where the highest number of reviews of a duplicate app is the same for more than one entry (for example, the Box app has three entries, and the number of reviews is the same). If we just check for `reviews_max[name] == n_reviews`, we'll still end up with duplicate entries for some apps."
   ]
  },
  {
   "cell_type": "code",
   "execution_count": 141,
   "metadata": {
    "ExecuteTime": {
     "end_time": "2024-03-17T15:24:46.800820Z",
     "start_time": "2024-03-17T15:24:45.631809Z"
    }
   },
   "outputs": [],
   "source": [
    "\n",
    "android_clean = []\n",
    "already_added = []\n",
    "for app in android:\n",
    "    name = app[0]\n",
    "    n_reviews = float(app[3])\n",
    "    if reviews_max[name] == n_reviews and (name not in already_added):\n",
    "        android_clean.append(app)\n",
    "        already_added.append(name)\n",
    "\n",
    "\n"
   ]
  },
  {
   "cell_type": "code",
   "execution_count": 142,
   "metadata": {
    "ExecuteTime": {
     "end_time": "2024-03-17T15:24:46.810642Z",
     "start_time": "2024-03-17T15:24:46.800820Z"
    }
   },
   "outputs": [
    {
     "data": {
      "text/plain": "9659"
     },
     "execution_count": 142,
     "metadata": {},
     "output_type": "execute_result"
    }
   ],
   "source": [
    "len(android_clean)"
   ]
  },
  {
   "cell_type": "code",
   "execution_count": 143,
   "metadata": {
    "ExecuteTime": {
     "end_time": "2024-03-17T15:24:46.822385Z",
     "start_time": "2024-03-17T15:24:46.810642Z"
    }
   },
   "outputs": [
    {
     "name": "stdout",
     "output_type": "stream",
     "text": [
      "['Photo Editor & Candy Camera & Grid & ScrapBook', 'ART_AND_DESIGN', '4.1', '159', '19M', '10,000+', 'Free', '0', 'Everyone', 'Art & Design', 'January 7, 2018', '1.0.0', '4.0.3 and up']\n",
      "\n",
      "\n",
      "['U Launcher Lite – FREE Live Cool Themes, Hide Apps', 'ART_AND_DESIGN', '4.7', '87510', '8.7M', '5,000,000+', 'Free', '0', 'Everyone', 'Art & Design', 'August 1, 2018', '1.2.4', '4.0.3 and up']\n",
      "\n",
      "\n",
      "Number of rows: 9659\n",
      "Number of columns: 13\n"
     ]
    }
   ],
   "source": [
    "explore_data(android_clean, 0, 2, True)"
   ]
  },
  {
   "cell_type": "markdown",
   "metadata": {},
   "source": [
    "We have 9659 rows, just as expected."
   ]
  },
  {
   "cell_type": "markdown",
   "metadata": {},
   "source": [
    "## Removing Non-English Apps\n",
    "\n",
    "### Part One\n",
    "\n",
    "If you explore the data sets enough, you'll notice the names of some of the apps suggest they are not directed toward an English-speaking audience."
   ]
  },
  {
   "cell_type": "code",
   "execution_count": 144,
   "metadata": {
    "ExecuteTime": {
     "end_time": "2024-03-17T15:24:46.833249Z",
     "start_time": "2024-03-17T15:24:46.822385Z"
    }
   },
   "outputs": [
    {
     "name": "stdout",
     "output_type": "stream",
     "text": [
      "爱奇艺PPS -《欢乐颂2》电视剧热播\n",
      "【脱出ゲーム】絶対に最後までプレイしないで 〜謎解き＆ブロックパズル〜\n"
     ]
    }
   ],
   "source": [
    "print(ios[813][1])\n",
    "print(ios[6731][1])"
   ]
  },
  {
   "cell_type": "code",
   "execution_count": 145,
   "metadata": {
    "ExecuteTime": {
     "end_time": "2024-03-17T15:24:46.846512Z",
     "start_time": "2024-03-17T15:24:46.836379Z"
    }
   },
   "outputs": [],
   "source": [
    "def is_english(word):\n",
    "    \"\"\"Check if a word is in English\"\"\"\n",
    "    for char in word:\n",
    "        if ord(char) > 127:\n",
    "            return False\n",
    "    return True    \n"
   ]
  },
  {
   "cell_type": "code",
   "execution_count": 146,
   "metadata": {
    "ExecuteTime": {
     "end_time": "2024-03-17T15:24:46.863930Z",
     "start_time": "2024-03-17T15:24:46.849524Z"
    }
   },
   "outputs": [
    {
     "name": "stdout",
     "output_type": "stream",
     "text": [
      "True\n",
      "False\n"
     ]
    }
   ],
   "source": [
    "print(is_english('Instagram'))\n",
    "print(is_english('爱奇艺PPS -《欢乐颂2》电视剧热播'))"
   ]
  },
  {
   "cell_type": "code",
   "execution_count": 147,
   "metadata": {
    "ExecuteTime": {
     "end_time": "2024-03-17T15:24:46.879776Z",
     "start_time": "2024-03-17T15:24:46.867940Z"
    }
   },
   "outputs": [
    {
     "name": "stdout",
     "output_type": "stream",
     "text": [
      "8482\n",
      "128540\n"
     ]
    }
   ],
   "source": [
    "print(ord('™'))\n",
    "print(ord('😜'))"
   ]
  },
  {
   "cell_type": "code",
   "execution_count": 147,
   "metadata": {
    "ExecuteTime": {
     "end_time": "2024-03-17T15:24:46.892557Z",
     "start_time": "2024-03-17T15:24:46.883786Z"
    }
   },
   "outputs": [],
   "source": []
  }
 ],
 "metadata": {
  "kernelspec": {
   "display_name": "Python 3",
   "language": "python",
   "name": "python3"
  },
  "language_info": {
   "codemirror_mode": {
    "name": "ipython",
    "version": 3
   },
   "file_extension": ".py",
   "mimetype": "text/x-python",
   "name": "python",
   "nbconvert_exporter": "python",
   "pygments_lexer": "ipython3",
   "version": "3.12.1"
  }
 },
 "nbformat": 4,
 "nbformat_minor": 4
}
